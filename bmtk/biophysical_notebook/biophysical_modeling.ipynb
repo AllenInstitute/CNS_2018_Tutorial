{
 "cells": [
  {
   "cell_type": "markdown",
   "metadata": {},
   "source": [
    "<img src=\"../../../resources/cropped-SummerWorkshop_Header.png\">  \n",
    "\n",
    "<h1 align=\"center\">Python Bootcamp and Summer Workshop on the Dynamic Brain</h1> \n",
    "<h3 align=\"center\">Wednesday, August 23, 2017</h3> "
   ]
  },
  {
   "cell_type": "code",
   "execution_count": 1,
   "metadata": {
    "collapsed": false
   },
   "outputs": [],
   "source": [
    "import os\n",
    "import sys\n",
    "import pandas as pd\n",
    "import numpy as np\n",
    "import random\n",
    "\n",
    "from bmtk.builder.networks import NetworkBuilder\n",
    "\n",
    "from matplotlib import pyplot as plt\n",
    "import matplotlib.image as mpimg\n",
    "%matplotlib inline"
   ]
  },
  {
   "cell_type": "markdown",
   "metadata": {},
   "source": [
    "<div style=\"border-left: 3px solid #000; padding: 1px; padding-left: 10px; background: #F0FAFF; \\\">\n",
    "<h1>Modeling biophysically detailed cells with NEURON</h1>\n",
    "In this tutorial, we will create a network of 8 cells. Four of these cells will be biophysically detailed and four will be Leaky-Intergrate-and-Fire (LIF) models. \n",
    "</div>"
   ]
  },
  {
   "cell_type": "markdown",
   "metadata": {},
   "source": [
    "<img src=\"schematics_png/Full_figure.png\" alt=Drawing style=\"width: 500px;\">"
   ]
  },
  {
   "cell_type": "markdown",
   "metadata": {},
   "source": [
    "<div style=\"border-left: 3px solid #000; padding: 1px; padding-left: 10px; background: #F0FAFF; \\\">\n",
    "<h1>Build recurrent network</h1>\n",
    "For building the 8 node network, we will save the nodes (neurons) and edges (connections) separately.  \n",
    "</div>"
   ]
  },
  {
   "cell_type": "code",
   "execution_count": 2,
   "metadata": {
    "collapsed": true
   },
   "outputs": [],
   "source": [
    "# Output file names\n",
    "directory_name = 'network/recurrent_network/'"
   ]
  },
  {
   "cell_type": "markdown",
   "metadata": {},
   "source": [
    "<div style=\"border-left: 3px solid #000; padding: 1px; padding-left: 10px; background: #F0FAFF; \\\">\n",
    "We will explore the directory structure of how files are being saved later. Just know for now that we will be creating files ans saving them in a directory called \"network\".\n",
    "</div>"
   ]
  },
  {
   "cell_type": "markdown",
   "metadata": {},
   "source": [
    "<div style=\"border-left: 3px solid #000; padding: 1px; padding-left: 10px; background: #F0FAFF; \\\">\n",
    "<h2>Building Nodes</h2>\n",
    "In this section we will be creating the nodes only. They are not receiving input nor connected to each other yet. The schematic below illustrates where we will be.\n",
    "</div>"
   ]
  },
  {
   "cell_type": "markdown",
   "metadata": {},
   "source": [
    "<img src=\"schematics_png/Neurons_created.png\" alt=Drawing style=\"width: 350px;\">"
   ]
  },
  {
   "cell_type": "markdown",
   "metadata": {},
   "source": [
    "<div style=\"border-left: 3px solid #000; padding: 1px; padding-left: 10px; background: #F0FAFF; \\\">\n",
    "In addition to saving nodes and edges separately, the nodes themselves are described by two files, one containing all information that are unique to nodes and one containing all information that are unique to models. We differentiate nodes and models because there can be a handful of models but thousands of nodes. With this, everything that is unique for nodes, such as position, goes in the nodes file. Parameters that are repeated (such as morphology, electrohphysiology parameters) can be stored and referenced in the model files (which we call node_types).\n",
    "</div>"
   ]
  },
  {
   "cell_type": "code",
   "execution_count": 3,
   "metadata": {
    "collapsed": true
   },
   "outputs": [],
   "source": [
    "# Nodes files\n",
    "#nodes_file = directory_name + 'nodes.csv'              # Contains information about every node\n",
    "#node_models_file = directory_name + 'node_types.csv'   # Contains information about models"
   ]
  },
  {
   "cell_type": "code",
   "execution_count": 4,
   "metadata": {
    "collapsed": true
   },
   "outputs": [],
   "source": [
    "### Number of cell models desired\n",
    "N_Scnn1a = 2\n",
    "N_PV1 = 2\n",
    "N_LIF_exc = 2\n",
    "N_LIF_inh = 2"
   ]
  },
  {
   "cell_type": "code",
   "execution_count": 5,
   "metadata": {
    "collapsed": false
   },
   "outputs": [],
   "source": [
    "### Define all the cell models in a dictionary (note dictionaries within a dictionary)\n",
    "biophysical_models = {\n",
    "    \n",
    "    # Cell type. Here we are using a pyrmaidal models from an Scnn1a Cre-line. Other\n",
    "    # models exist in the components directory if you would like to explore them.\n",
    "    'Scnn1a': { \n",
    "        # Number of nodes (neurons) we would like to create\n",
    "        'N': N_Scnn1a,               \n",
    "        # Key to indicate if the neuron is excitatory or inhibitory\n",
    "        'ei': 'e', \n",
    "        # Key to store the population name of the model. One can have many\n",
    "        # models (node_type_id) that belong to a single populations\n",
    "        'pop_name': 'Scnn1a', \n",
    "        # Attribute to indicate this model is biophysical (instead of LIF for example)\n",
    "        'model_type': 'biophysical',\n",
    "        # Attribute to indicate that we will be using a NEURON template file created specially\n",
    "        # for processing Cell Type Databases (ctdb) neuron models. For different type of models\n",
    "        # and simulators we will want to change this value (or use our own templates)\n",
    "        'model_template': 'ctdb:Biophys1.hoc',\n",
    "        # For special post-processing imperatives and functions can be set in model_processing.\n",
    "        # In this case we are telling the simulator to specially cut the axon as required for \n",
    "        # Cell Types models (built in function). We can also pass in custom functions\n",
    "        'model_processing': 'aibs_perisomatic',       \n",
    "        # The morpholgy file for this model (NEURON template). This is stored in the components\n",
    "        # directory if you would like to explore it more (plus other models).        \n",
    "        'dynamics_params': '472363762_fit.json',\n",
    "        # Fixed for every model but needs to be defined. This is the angle of the \n",
    "        # morphology reconstruction relative to the pia.\n",
    "        'morphology_file': 'Scnn1a-Tg3-Cre_Ai14_IVSCC_-177300.01.02.01_473845048_m.swc',\n",
    "        # The dynamics parameters file for this model. Again, this is stored\n",
    "        # in the components directory with other models if you wish to check them out.\n",
    "        'rotation_angle_zaxis': -3.646878266\n",
    "    },\n",
    "    \n",
    "    # Below are the same attributes but with different values for the PV cell we will be\n",
    "    # modeling in out network.\n",
    "    'PV1': {\n",
    "        'N': N_PV1,\n",
    "        'ei': 'i', \n",
    "        'pop_name': 'PV1',\n",
    "        'model_type': 'biophysical',\n",
    "        'model_template': 'ctdb:Biophys1.hoc',\n",
    "        'model_processing': 'aibs_perisomatic',\n",
    "        'dynamics_params': '472912177_fit.json',\n",
    "        'morphology_file': 'Pvalb-IRES-Cre_Ai14_IVSCC_-176847.04.02.01_470522102_m.swc',\n",
    "        'rotation_angle_zaxis': -2.539551891\n",
    "    }\n",
    "}"
   ]
  },
  {
   "cell_type": "markdown",
   "metadata": {},
   "source": [
    "<div style=\"border-left: 3px solid #000; padding: 1px; padding-left: 10px; background: #F0FAFF; \\\">\n",
    "<h1>Example function for illustrative purposes</h1>\n",
    "The below is simply a function that will return random coorindates for nodes. The purpose of this functions is to show you how to use the API to create your own custom functions. It will be used in the subsequent cell.\n",
    "</div>"
   ]
  },
  {
   "cell_type": "code",
   "execution_count": 6,
   "metadata": {
    "collapsed": true
   },
   "outputs": [],
   "source": [
    "def generate_random_positions(N):\n",
    "    '''\n",
    "    Generate N random positions.\n",
    "    N: number of positions to generate\n",
    "    '''\n",
    "\n",
    "    x = np.random.random(N)     # x-axis location\n",
    "    y = np.random.random(N)     # y-axis location\n",
    "    z = np.random.random(N)     # z-axis location\n",
    "\n",
    "    positions = np.column_stack((x, y, z))\n",
    "\n",
    "    return positions"
   ]
  },
  {
   "cell_type": "code",
   "execution_count": 7,
   "metadata": {
    "collapsed": false
   },
   "outputs": [],
   "source": [
    "### Create nodes set for each biophysical population\n",
    "\n",
    "# A network object is created of SynNetwork class. This will store all the \n",
    "# information about the nodes and connections between nodes. The object has\n",
    "# multiple methods (functions) that we will be using below to build the network\n",
    "# nodes first and connections second.\n",
    "net = NetworkBuilder('FridayHarborBiophysics')\n",
    "\n",
    "# We will loop through every model and create nodes. Note the main function\n",
    "# below is net.add_nodes()\n",
    "for model in biophysical_models:\n",
    "    # Read the first biophysical model parameters dictionary\n",
    "    params = biophysical_models[model]\n",
    "\n",
    "    # Calculate positions for every cell (x, y, z). The called function was created\n",
    "    # above. It doesn't do anything special other than create positions for nodes\n",
    "    # from a random number generator. But one can write more sophisticated algorithms\n",
    "    # for positions if they choose.\n",
    "    positions = generate_random_positions(params['N'])\n",
    "\n",
    "    # Adds node populations giving it all the input paramters one would like.\n",
    "    net.add_nodes(N=params['N'], # Specify the numer of cells belonging to this set of nodes \n",
    "                  # for the positions and y rotation we are passing in arrays of size N, which mean\n",
    "                  # such properties are unique for every cell\n",
    "                  x=positions[:,0], y=positions[:, 1], z=positions[:, 2],\n",
    "                  rotation_angle_yaxis=np.random.uniform(0.0, 2*np.pi, params['N']),\n",
    "                  # The other parameters are shared by all cells of this set\n",
    "                  ei=params['ei'],\n",
    "                  pop_name=params['pop_name'],\n",
    "                  model_type=params['model_type'],\n",
    "                  model_template=params['model_template'],\n",
    "                  model_processing=params['model_processing'],\n",
    "                  dynamics_params=params['dynamics_params'],\n",
    "                  morphology_file=params['morphology_file'],\n",
    "                  rotation_angle_zaxis=params['rotation_angle_zaxis'])"
   ]
  },
  {
   "cell_type": "markdown",
   "metadata": {},
   "source": [
    "<div style=\"background: #DFF0D8; border-radius: 3px; padding: 10px; \\\">\n",
    "<h3>Exercise 1: </h3>\n",
    "<p>Create the LIF cells  \n",
    "<p>Add a population of excitatory and inhibitory LIF neurons. \n",
    "<p>First create a dictionary as do the biophysical example\n",
    "<p>To do this,  select a unique node_type_id and pop_name.  \n",
    "<p>Some names are unique to NEURON and must be named accordingly for LIFs:  \n",
    "<p>'level_of_detail': 'intfire',  \n",
    "<p>'params_file': 'IntFire1_exc_1.json',  \n",
    "<p>'set_params_function': 'IntFire1'  \n",
    "  \n",
    "<p>Note that you do not need to add a morphology file or rotation angle for the z-axis here.\n",
    "</div>"
   ]
  },
  {
   "cell_type": "code",
   "execution_count": 8,
   "metadata": {
    "collapsed": true
   },
   "outputs": [],
   "source": [
    "### Define all the cell models in a dictionary.\n",
    "LIF_models = {\n",
    "    'LIF_exc': {\n",
    "        'N': N_LIF_exc, \n",
    "        'ei': 'e', \n",
    "        'pop_name': 'LIF_exc',\n",
    "        # Instead of being a biophysicall detailed cells, LIF cells are point processes. We can also use\n",
    "        # model types of point soma (has biophysical mechanics but no morphology) or virtual (for providing\n",
    "        # spike trains)\n",
    "        'model_type': 'point_process',\n",
    "        # Here we tell the simulation to use NEURON built-in IntFire1 type models\n",
    "        'model_template': 'nrn:IntFire1',\n",
    "        'dynamics_params': 'IntFire1_exc_1.json'\n",
    "    },\n",
    "    'LIF_inh': {\n",
    "        'N': N_LIF_inh,\n",
    "        'ei': 'i', \n",
    "        'pop_name': 'LIF_inh',\n",
    "        'model_type': 'point_process',\n",
    "        'model_template': 'nrn:IntFire1',\n",
    "        'dynamics_params': 'IntFire1_inh_1.json'\n",
    "    }\n",
    "}"
   ]
  },
  {
   "cell_type": "markdown",
   "metadata": {},
   "source": [
    "<div style=\"background: #DFF0D8; border-radius: 3px; padding: 10px; \\\">\n",
    "<h3>Exercise 2:</h3>\n",
    "Loop through the dictionary as done before to add the cells. Note that can use same code as used for biophysical and NA will be placed for the non-required inputs automatically.  \n",
    "<p>In practice one will use one for-loop and dictionary for all node-types.\n",
    "</div>"
   ]
  },
  {
   "cell_type": "code",
   "execution_count": 9,
   "metadata": {
    "collapsed": true
   },
   "outputs": [],
   "source": [
    "### Create a node set for each point population\n",
    "for model in LIF_models:\n",
    "    params = LIF_models[model].copy()\n",
    "\n",
    "    # Number of cells for this model type\n",
    "    n_cells = params.pop('N')\n",
    "\n",
    "    # Precacluate positions, rotation angles for each N neurons in the population\n",
    "    positions = generate_random_positions(n_cells)\n",
    "\n",
    "    # Adds node populations\n",
    "    net.add_nodes(N=n_cells ,\n",
    "                  x=positions[:,0], y=positions[:, 1], z=positions[:, 2],\n",
    "                  rotation_angle_yaxis=np.random.uniform(0.0, 2*np.pi, n_cells),\n",
    "                  **params)  # python shortcut for unrolling a dictionary"
   ]
  },
  {
   "cell_type": "markdown",
   "metadata": {},
   "source": [
    "<div style=\"border-left: 3px solid #000; padding: 1px; padding-left: 10px; background: #F0FAFF; \\\">\n",
    "<h2>Saving nodes in hdf5 file</h2>\n",
    "To save the nodes, it is important to highlight the difference between nodes and models.\n",
    "<p> Nodes refers to the specific neuron instantiations that are created and will have specific properties such as position coordinates. Each neuron still corresponds to a specific model though.  \n",
    "<p> Models describe the properties of sets of neurons that are common. In our case, these include the electrophysiological parameters and the morphology. This is, as mentioned above, because we use the same model to create multiple cells of those models.  \n",
    "<p>As such, in the save functions below, we save the neurons (cells) and the models (types). This create two .csv files which you should examine. Note that both have node_type_id as a common column which will tell the simulator that the node selected corresponds to a specific node type which it can reference from the node_types table.\n",
    "</div>"
   ]
  },
  {
   "cell_type": "code",
   "execution_count": null,
   "metadata": {
    "collapsed": false
   },
   "outputs": [],
   "source": []
  },
  {
   "cell_type": "code",
   "execution_count": 10,
   "metadata": {
    "collapsed": false
   },
   "outputs": [],
   "source": [
    "net.save_nodes(nodes_file_name='nodes.h5', node_types_file_name='node_types.csv', output_dir=directory_name)"
   ]
  },
  {
   "cell_type": "code",
   "execution_count": 11,
   "metadata": {
    "collapsed": false
   },
   "outputs": [
    {
     "data": {
      "text/html": [
       "<div>\n",
       "<style scoped>\n",
       "    .dataframe tbody tr th:only-of-type {\n",
       "        vertical-align: middle;\n",
       "    }\n",
       "\n",
       "    .dataframe tbody tr th {\n",
       "        vertical-align: top;\n",
       "    }\n",
       "\n",
       "    .dataframe thead th {\n",
       "        text-align: right;\n",
       "    }\n",
       "</style>\n",
       "<table border=\"1\" class=\"dataframe\">\n",
       "  <thead>\n",
       "    <tr style=\"text-align: right;\">\n",
       "      <th></th>\n",
       "      <th>node_id</th>\n",
       "      <th>node_type_id</th>\n",
       "      <th>rotation_angle_yaxis</th>\n",
       "      <th>x</th>\n",
       "      <th>y</th>\n",
       "      <th>z</th>\n",
       "    </tr>\n",
       "  </thead>\n",
       "  <tbody>\n",
       "    <tr>\n",
       "      <th>0</th>\n",
       "      <td>0</td>\n",
       "      <td>100</td>\n",
       "      <td>2.988341</td>\n",
       "      <td>0.134712</td>\n",
       "      <td>0.695907</td>\n",
       "      <td>0.878670</td>\n",
       "    </tr>\n",
       "    <tr>\n",
       "      <th>1</th>\n",
       "      <td>1</td>\n",
       "      <td>100</td>\n",
       "      <td>3.487635</td>\n",
       "      <td>0.709875</td>\n",
       "      <td>0.888323</td>\n",
       "      <td>0.684593</td>\n",
       "    </tr>\n",
       "    <tr>\n",
       "      <th>2</th>\n",
       "      <td>2</td>\n",
       "      <td>101</td>\n",
       "      <td>5.842155</td>\n",
       "      <td>0.194307</td>\n",
       "      <td>0.704304</td>\n",
       "      <td>0.891001</td>\n",
       "    </tr>\n",
       "    <tr>\n",
       "      <th>3</th>\n",
       "      <td>3</td>\n",
       "      <td>101</td>\n",
       "      <td>3.740842</td>\n",
       "      <td>0.647982</td>\n",
       "      <td>0.490831</td>\n",
       "      <td>0.450075</td>\n",
       "    </tr>\n",
       "    <tr>\n",
       "      <th>4</th>\n",
       "      <td>4</td>\n",
       "      <td>102</td>\n",
       "      <td>4.511781</td>\n",
       "      <td>0.693581</td>\n",
       "      <td>0.625797</td>\n",
       "      <td>0.049606</td>\n",
       "    </tr>\n",
       "    <tr>\n",
       "      <th>5</th>\n",
       "      <td>5</td>\n",
       "      <td>102</td>\n",
       "      <td>4.695096</td>\n",
       "      <td>0.984094</td>\n",
       "      <td>0.656993</td>\n",
       "      <td>0.193854</td>\n",
       "    </tr>\n",
       "    <tr>\n",
       "      <th>6</th>\n",
       "      <td>6</td>\n",
       "      <td>103</td>\n",
       "      <td>0.679952</td>\n",
       "      <td>0.777357</td>\n",
       "      <td>0.419979</td>\n",
       "      <td>0.740688</td>\n",
       "    </tr>\n",
       "    <tr>\n",
       "      <th>7</th>\n",
       "      <td>7</td>\n",
       "      <td>103</td>\n",
       "      <td>0.438273</td>\n",
       "      <td>0.197360</td>\n",
       "      <td>0.930341</td>\n",
       "      <td>0.790129</td>\n",
       "    </tr>\n",
       "  </tbody>\n",
       "</table>\n",
       "</div>"
      ],
      "text/plain": [
       "   node_id  node_type_id  rotation_angle_yaxis         x         y         z\n",
       "0        0           100              2.988341  0.134712  0.695907  0.878670\n",
       "1        1           100              3.487635  0.709875  0.888323  0.684593\n",
       "2        2           101              5.842155  0.194307  0.704304  0.891001\n",
       "3        3           101              3.740842  0.647982  0.490831  0.450075\n",
       "4        4           102              4.511781  0.693581  0.625797  0.049606\n",
       "5        5           102              4.695096  0.984094  0.656993  0.193854\n",
       "6        6           103              0.679952  0.777357  0.419979  0.740688\n",
       "7        7           103              0.438273  0.197360  0.930341  0.790129"
      ]
     },
     "execution_count": 11,
     "metadata": {},
     "output_type": "execute_result"
    }
   ],
   "source": [
    "# Show the nodes file\n",
    "from bmtk.analyzer import nodes_table\n",
    "nodes_table('network/recurrent_network/nodes.h5', 'FridayHarborBiophysics')"
   ]
  },
  {
   "cell_type": "code",
   "execution_count": 12,
   "metadata": {
    "collapsed": false
   },
   "outputs": [
    {
     "name": "stderr",
     "output_type": "stream",
     "text": [
      "/home/kael/apps/miniconda2/envs/bmtk-py36/lib/python3.6/site-packages/ipykernel/__main__.py:2: FutureWarning: from_csv is deprecated. Please use read_csv(...) instead. Note that some of the default arguments are different, so please refer to the documentation for from_csv when changing your function calls\n",
      "  from ipykernel import kernelapp as app\n"
     ]
    },
    {
     "data": {
      "text/html": [
       "<div>\n",
       "<style scoped>\n",
       "    .dataframe tbody tr th:only-of-type {\n",
       "        vertical-align: middle;\n",
       "    }\n",
       "\n",
       "    .dataframe tbody tr th {\n",
       "        vertical-align: top;\n",
       "    }\n",
       "\n",
       "    .dataframe thead th {\n",
       "        text-align: right;\n",
       "    }\n",
       "</style>\n",
       "<table border=\"1\" class=\"dataframe\">\n",
       "  <thead>\n",
       "    <tr style=\"text-align: right;\">\n",
       "      <th></th>\n",
       "      <th>morphology_file</th>\n",
       "      <th>rotation_angle_zaxis</th>\n",
       "      <th>model_type</th>\n",
       "      <th>model_processing</th>\n",
       "      <th>pop_name</th>\n",
       "      <th>ei</th>\n",
       "      <th>dynamics_params</th>\n",
       "      <th>model_template</th>\n",
       "    </tr>\n",
       "    <tr>\n",
       "      <th>node_type_id</th>\n",
       "      <th></th>\n",
       "      <th></th>\n",
       "      <th></th>\n",
       "      <th></th>\n",
       "      <th></th>\n",
       "      <th></th>\n",
       "      <th></th>\n",
       "      <th></th>\n",
       "    </tr>\n",
       "  </thead>\n",
       "  <tbody>\n",
       "    <tr>\n",
       "      <th>100</th>\n",
       "      <td>Scnn1a-Tg3-Cre_Ai14_IVSCC_-177300.01.02.01_473...</td>\n",
       "      <td>-3.646878</td>\n",
       "      <td>biophysical</td>\n",
       "      <td>aibs_perisomatic</td>\n",
       "      <td>Scnn1a</td>\n",
       "      <td>e</td>\n",
       "      <td>472363762_fit.json</td>\n",
       "      <td>ctdb:Biophys1.hoc</td>\n",
       "    </tr>\n",
       "    <tr>\n",
       "      <th>101</th>\n",
       "      <td>Pvalb-IRES-Cre_Ai14_IVSCC_-176847.04.02.01_470...</td>\n",
       "      <td>-2.539552</td>\n",
       "      <td>biophysical</td>\n",
       "      <td>aibs_perisomatic</td>\n",
       "      <td>PV1</td>\n",
       "      <td>i</td>\n",
       "      <td>472912177_fit.json</td>\n",
       "      <td>ctdb:Biophys1.hoc</td>\n",
       "    </tr>\n",
       "    <tr>\n",
       "      <th>102</th>\n",
       "      <td>NaN</td>\n",
       "      <td>NaN</td>\n",
       "      <td>point_process</td>\n",
       "      <td>NaN</td>\n",
       "      <td>LIF_exc</td>\n",
       "      <td>e</td>\n",
       "      <td>IntFire1_exc_1.json</td>\n",
       "      <td>nrn:IntFire1</td>\n",
       "    </tr>\n",
       "    <tr>\n",
       "      <th>103</th>\n",
       "      <td>NaN</td>\n",
       "      <td>NaN</td>\n",
       "      <td>point_process</td>\n",
       "      <td>NaN</td>\n",
       "      <td>LIF_inh</td>\n",
       "      <td>i</td>\n",
       "      <td>IntFire1_inh_1.json</td>\n",
       "      <td>nrn:IntFire1</td>\n",
       "    </tr>\n",
       "  </tbody>\n",
       "</table>\n",
       "</div>"
      ],
      "text/plain": [
       "                                                morphology_file  \\\n",
       "node_type_id                                                      \n",
       "100           Scnn1a-Tg3-Cre_Ai14_IVSCC_-177300.01.02.01_473...   \n",
       "101           Pvalb-IRES-Cre_Ai14_IVSCC_-176847.04.02.01_470...   \n",
       "102                                                         NaN   \n",
       "103                                                         NaN   \n",
       "\n",
       "              rotation_angle_zaxis     model_type  model_processing pop_name  \\\n",
       "node_type_id                                                                   \n",
       "100                      -3.646878    biophysical  aibs_perisomatic   Scnn1a   \n",
       "101                      -2.539552    biophysical  aibs_perisomatic      PV1   \n",
       "102                            NaN  point_process               NaN  LIF_exc   \n",
       "103                            NaN  point_process               NaN  LIF_inh   \n",
       "\n",
       "             ei      dynamics_params     model_template  \n",
       "node_type_id                                             \n",
       "100           e   472363762_fit.json  ctdb:Biophys1.hoc  \n",
       "101           i   472912177_fit.json  ctdb:Biophys1.hoc  \n",
       "102           e  IntFire1_exc_1.json       nrn:IntFire1  \n",
       "103           i  IntFire1_inh_1.json       nrn:IntFire1  "
      ]
     },
     "execution_count": 12,
     "metadata": {},
     "output_type": "execute_result"
    }
   ],
   "source": [
    "# Show the node_types file. Note the common column is node_type_id\n",
    "node_types_DF = pd.DataFrame.from_csv('network/recurrent_network/node_types.csv', sep = ' ')\n",
    "node_types_DF"
   ]
  },
  {
   "cell_type": "markdown",
   "metadata": {},
   "source": [
    "<div style=\"border-left: 3px solid #000; padding: 1px; padding-left: 10px; background: #F0FAFF; \\\">\n",
    "<h2>Setting connections (edges)</h2>\n",
    "Now we will create edges between all nodes (8*7 = 56 edges since no self-connections) as shown in the example figure below.\n",
    "</div>"
   ]
  },
  {
   "cell_type": "markdown",
   "metadata": {},
   "source": [
    "<img src=\"schematics_png/Recurrent_connected.png\" alt=Drawing style=\"width: 500px;\">"
   ]
  },
  {
   "cell_type": "markdown",
   "metadata": {},
   "source": [
    "<div style=\"border-left: 3px solid #000; padding: 1px; padding-left: 10px; background: #F0FAFF; \\\">\n",
    "Similar to nodes, the edge files are saved into two files, one that describes unique edges between nodes (e.g. node 315 connects to node 938) and the other that describes the properties of different edges.\n",
    "</div>"
   ]
  },
  {
   "cell_type": "code",
   "execution_count": 13,
   "metadata": {
    "collapsed": true
   },
   "outputs": [],
   "source": [
    "# Edges files\n",
    "#edge_types_file = directory_name + 'edge_types.csv'   # Contains info. about every edge type\n",
    "#edges_file = directory_name + 'edges.h5'             # Contains info. about every edge created"
   ]
  },
  {
   "cell_type": "markdown",
   "metadata": {},
   "source": [
    "<div style=\"border-left: 3px solid #000; padding: 1px; padding-left: 10px; background: #F0FAFF; \\\">\n",
    "<h1>Example function for illustrative purposes</h1>\n",
    "The below is simply a function that will determine whether or not two nodes are connected to one another. If they are connected the number of synapses forming the connection is also determined. In this function, d_max is a cut-off that determines if the neurons are close enough to connect or not connect. Below, you will see that we choose a very large d_max such that all neurons are connected to one another. The purpose of this functions is to show you how to use the API to create your own custom functions. It will be used in the subsequent cells.\n",
    "</div>"
   ]
  },
  {
   "cell_type": "code",
   "execution_count": 14,
   "metadata": {
    "collapsed": false
   },
   "outputs": [],
   "source": [
    "def distance_connection_handler(source, target, d_max, nsyn_min, nsyn_max):\n",
    "    '''\n",
    "    Connect cells that are less than d_max apart\n",
    "    with a random number of synapses in the \n",
    "    interval [nsyn_min, nsyn_max)\n",
    "    '''\n",
    "    \n",
    "    sid = source['node_id']    # Get source id\n",
    "    tid = target['node_id']    # Get target id\n",
    "    \n",
    "    # Avoid self-connections.\n",
    "    if (sid == tid):\n",
    "        return None\n",
    "\n",
    "    # first calculate euclidean distance between cells\n",
    "    src_positions = np.array([source['x'], source['y'], source['z']])\n",
    "    trg_positions = np.array([target['x'], target['y'], target['z']])\n",
    "    separation = np.sqrt(np.sum(src_positions - trg_positions)**2 )\n",
    "\n",
    "    # drop the connection if nodes too far apart\n",
    "    if separation >= d_max:\n",
    "        return\n",
    "\n",
    "    # Add the number of synapses for every connection.\n",
    "    tmp_nsyn = random.randint(nsyn_min, nsyn_max)\n",
    "    return tmp_nsyn"
   ]
  },
  {
   "cell_type": "markdown",
   "metadata": {},
   "source": [
    "<div style=\"border-left: 3px solid #000; padding: 1px; padding-left: 10px; background: #F0FAFF; \\\">\n",
    "<h3>Generating I-to-I connections</h3>\n",
    "</div>"
   ]
  },
  {
   "cell_type": "code",
   "execution_count": 15,
   "metadata": {
    "collapsed": true
   },
   "outputs": [],
   "source": [
    "# The cparameters dictionary is the connection parameters dictionary which will be \n",
    "# used between connected nodes. In this API, this is how arguments/variables are given to\n",
    "# the connection function (defined earlier and will be used below). \n",
    "# Here the function that will use these parameters was defined at the start of the notebook\n",
    "# and was called distance_connection_handler().\n",
    "\n",
    "cparameters = {'d_max': 160.0,    # Maximum separation between nodes where connection allowed \n",
    "               'nsyn_min': 3,     # If connection exist, minimum number of synapses\n",
    "               'nsyn_max': 7}     # If connection exist, maximum number of synapses"
   ]
  },
  {
   "cell_type": "code",
   "execution_count": 16,
   "metadata": {
    "collapsed": false
   },
   "outputs": [
    {
     "data": {
      "text/plain": [
       "<bmtk.builder.connection_map.ConnectionMap at 0x7fa5c1ea3cc0>"
      ]
     },
     "execution_count": 16,
     "metadata": {},
     "output_type": "execute_result"
    }
   ],
   "source": [
    "# Here we will give a connection rule we want to impose on the network. Note that\n",
    "# we only give the rules (and associated functions) and the networks. The API\n",
    "# will then loop and determine the connections that satify the rules.\n",
    "\n",
    "net.add_edges(\n",
    "    # Connection rule states A: Everytime the source node (pre-synaptic neuron) is inhibitory\n",
    "    source={'ei': 'i'}, \n",
    "    # Connection rule states B: Everytime the target node (post-synamtic neuron) is\n",
    "    # inhibitory and of biophysical detail. One can change this of course to another\n",
    "    # rule that depends on pop_name or node_mode_id for instance.\n",
    "    target={'ei': 'i', 'model_type': 'biophysical'},\n",
    "    # Function that will determine the rules of connectivity. This was defined before\n",
    "    # and required 5 arguments. However, note that the source node and target\n",
    "    # node will be automatically be set as arguments to the function and hence only\n",
    "    # need 3 arguments. This function only determined if node X is connected to node Y.\n",
    "    # The parameters of the connections are defined below (edge_parameters)\n",
    "    connection_rule=distance_connection_handler,\n",
    "    # The remaining arguments needed by distance_connection_handler that we defined above.\n",
    "    connection_params=cparameters,\n",
    "    # syn_weight defines the strength of the connection. It depends on the \n",
    "    # target cell mechanism. Here, this will be interpreted as the peak\n",
    "    # conductance measure in uS.\n",
    "    syn_weight=0.03, \n",
    "    # When the target is a biophysical neuron, the location of the connections \n",
    "    # (synapses) along the neuron must be defined.\n",
    "    distance_range=[0.0, 1e+20],\n",
    "    # Further, when the target is a biophysical neuron, the regions of the \n",
    "    # neuron being targeted need to be defined.\n",
    "    target_sections=['somatic', 'basal'], \n",
    "    # Axonal delay between when pre-synaptic node fires and post-synaptic\n",
    "    # target responds. The unit is milliseconds\n",
    "    delay=2.0,\n",
    "    # File that contains the parameters for the synaptic weight which you can\n",
    "    # explore in the components directory. The naming convention below indicates\n",
    "    # that the synapse dynamics are GABA for an Inh to Inh node.\n",
    "    dynamics_params='GABA_InhToInh.json', \n",
    "    # params_file only has parameter values, but the mechanism (profile) of\n",
    "    # synaptic dynamics are defined in NEURON. Here we use exp2syn where you\n",
    "    # can find more info here:\n",
    "    # https://www.neuron.yale.edu/neuron/static/docs/help/neuron/neuron/mech.html#Exp2Syn\n",
    "    model_template='exp2syn'\n",
    ")"
   ]
  },
  {
   "cell_type": "code",
   "execution_count": 17,
   "metadata": {
    "collapsed": false
   },
   "outputs": [
    {
     "data": {
      "text/plain": [
       "<bmtk.builder.connection_map.ConnectionMap at 0x7fa5c1ea3d68>"
      ]
     },
     "execution_count": 17,
     "metadata": {},
     "output_type": "execute_result"
    }
   ],
   "source": [
    "# When the target is a LIF neuron. Note here that distance_range and target_sections are\n",
    "# not needed. Also, due to how NEURON handles LIF neurons, the synaptic profile has an\n",
    "# instantaneous increase (after the synaptic delay) and no params_function is neeeded.\n",
    "net.add_edges(source={'ei': 'i'}, \n",
    "              target={'ei': 'i', 'model_type': 'point_process'},\n",
    "              connection_rule=distance_connection_handler,\n",
    "              connection_params=cparameters,\n",
    "              syn_weight=0.3, \n",
    "              delay=2.0,\n",
    "              dynamics_params='instanteneousInh.json')"
   ]
  },
  {
   "cell_type": "markdown",
   "metadata": {},
   "source": [
    "<div style=\"border-left: 3px solid #000; padding: 1px; padding-left: 10px; background: #F0FAFF; \\\">\n",
    "<h3>Generating I-to-E connections</h3>\n",
    "</div>"
   ]
  },
  {
   "cell_type": "code",
   "execution_count": 18,
   "metadata": {
    "collapsed": false
   },
   "outputs": [
    {
     "data": {
      "text/plain": [
       "<bmtk.builder.connection_map.ConnectionMap at 0x7fa5c1f08c88>"
      ]
     },
     "execution_count": 18,
     "metadata": {},
     "output_type": "execute_result"
    }
   ],
   "source": [
    "# As above, need to give different rules for when the target is a biophysical neuron.\n",
    "net.add_edges(source={'ei': 'i'}, \n",
    "              target={'ei': 'e', 'level_of_detail': 'biophysical'},\n",
    "              connection_rule=distance_connection_handler,\n",
    "              connection_params=cparameters,\n",
    "              syn_weight=0.3, \n",
    "              distance_range=[0.0, 50.0],\n",
    "              target_sections=['somatic', 'basal', 'apical'], \n",
    "              delay=2.0,\n",
    "              dynamics_params='GABA_InhToExc.json',\n",
    "              model_template='exp2syn')"
   ]
  },
  {
   "cell_type": "code",
   "execution_count": 19,
   "metadata": {
    "collapsed": false
   },
   "outputs": [
    {
     "data": {
      "text/plain": [
       "<bmtk.builder.connection_map.ConnectionMap at 0x7fa5c1f115c0>"
      ]
     },
     "execution_count": 19,
     "metadata": {},
     "output_type": "execute_result"
    }
   ],
   "source": [
    "# As above, need to give different rules for when the target is a LIF neuron.\n",
    "net.add_edges(source={'ei': 'i'}, \n",
    "              target={'ei': 'e', 'level_of_detail': 'intfire'},\n",
    "              connection_rule=distance_connection_handler,\n",
    "              connection_params=cparameters,\n",
    "              syn_weight=0.4,\n",
    "              delay=2.0,\n",
    "              dynamics_params='instanteneousInh.json')"
   ]
  },
  {
   "cell_type": "markdown",
   "metadata": {},
   "source": [
    "<div style=\"background: #DFF0D8; border-radius: 3px; padding: 10px; \\\">\n",
    "<h3>Excercise 3:</h3>\n",
    "<p> Complete the remaining connections: E-to-I, and E-to-E  \n",
    "<h4> Hints:  </h4>\n",
    "<p>-You can use the same cparameters values  \n",
    "<p>-Available params_files are: GABA_InhToInh.json, GABA_InhToExc.json, AMPA_ExcToInh.json, AMPA_ExcToExc.json, instanteneousInh.json, instanteneousExc.json  \n",
    "<p>-Inhibitory neurons only have 'somatic' and 'basal' compartments. Excitatory neurons also have 'apical'.  \n",
    "<p>-When the target neuron is inhibitory and biophysical, suggested distance range is [0.0, 1e+20] that targets somatic and basal compartments.  \n",
    "<p>-When the target neuron is exctiatory, suggested distance range is [30.0, 150.0] that targets basal and apical compartments.  \n",
    "<p>-Suggested weights, but you can experiment,: E-to-I biophysical = 0.05, E-to-I LIF =0.2, E-to-E biphysical = 0.05, E-to-E LIF = 0.05\n",
    "</div>"
   ]
  },
  {
   "cell_type": "markdown",
   "metadata": {},
   "source": [
    "<div style=\"border-left: 3px solid #000; padding: 1px; padding-left: 10px; background: #F0FAFF; \\\">\n",
    "<h3>Generating E-to-I connections</h3>\n",
    "</div>"
   ]
  },
  {
   "cell_type": "code",
   "execution_count": 20,
   "metadata": {
    "collapsed": false
   },
   "outputs": [
    {
     "data": {
      "text/plain": [
       "<bmtk.builder.connection_map.ConnectionMap at 0x7fa5c1ebb5c0>"
      ]
     },
     "execution_count": 20,
     "metadata": {},
     "output_type": "execute_result"
    }
   ],
   "source": [
    "net.add_edges(source={'ei': 'e'}, target={'pop_name': 'PV1'},\n",
    "              connection_rule=distance_connection_handler,\n",
    "              connection_params=cparameters,\n",
    "              syn_weight=0.05,\n",
    "              distance_range=[0.0, 1e+20],\n",
    "              target_sections=['somatic', 'basal'],\n",
    "              delay=2.0,\n",
    "              dynamics_params='AMPA_ExcToInh.json', \n",
    "              model_template='exp2syn')\n",
    "\n",
    "net.add_edges(source={'ei': 'e'}, target={'pop_name': 'LIF_inh'},\n",
    "              connection_rule=distance_connection_handler,\n",
    "              connection_params=cparameters,\n",
    "              syn_weight=0.2,\n",
    "              delay=2.0,\n",
    "              dynamics_params='instanteneousExc.json')"
   ]
  },
  {
   "cell_type": "markdown",
   "metadata": {},
   "source": [
    "<div style=\"border-left: 3px solid #000; padding: 1px; padding-left: 10px; background: #F0FAFF; \\\">\n",
    "<h3>Generating E-to-E connections</h3>\n",
    "</div>"
   ]
  },
  {
   "cell_type": "code",
   "execution_count": 21,
   "metadata": {
    "collapsed": false
   },
   "outputs": [
    {
     "data": {
      "text/plain": [
       "<bmtk.builder.connection_map.ConnectionMap at 0x7fa5c1ebb828>"
      ]
     },
     "execution_count": 21,
     "metadata": {},
     "output_type": "execute_result"
    }
   ],
   "source": [
    "net.add_edges(source={'ei': 'e'}, target={'pop_name': 'Scnn1a'},\n",
    "              connection_rule=distance_connection_handler,\n",
    "              connection_params=cparameters,\n",
    "              syn_weight=0.05,\n",
    "              distance_range=[30.0, 150.0], \n",
    "              target_sections=['basal', 'apical'], \n",
    "              delay=2.0,\n",
    "              dynamics_params='AMPA_ExcToExc.json',\n",
    "              model_template='exp2syn')\n",
    "\n",
    "net.add_edges(source={'ei': 'e'}, target={'pop_name': 'LIF_exc'},\n",
    "              connection_rule=distance_connection_handler,\n",
    "              connection_params=cparameters,\n",
    "              syn_weight=0.05, \n",
    "              delay=2.0,\n",
    "              dynamics_params='instanteneousExc.json')"
   ]
  },
  {
   "cell_type": "markdown",
   "metadata": {},
   "source": [
    "<div style=\"border-left: 3px solid #000; padding: 1px; padding-left: 10px; background: #F0FAFF; \\\">\n",
    "<h2>Building network...</h2>\n",
    "</div>"
   ]
  },
  {
   "cell_type": "code",
   "execution_count": 22,
   "metadata": {
    "collapsed": false
   },
   "outputs": [],
   "source": [
    "# This will actually build the network and determine which nodes are connected to which. \n",
    "# Until now, only the rules were given and stored.\n",
    "net.build()"
   ]
  },
  {
   "cell_type": "markdown",
   "metadata": {},
   "source": [
    "<div style=\"border-left: 3px solid #000; padding: 1px; padding-left: 10px; background: #F0FAFF; \\\">\n",
    "<h2>Saving edges</h2>\n",
    "</div>"
   ]
  },
  {
   "cell_type": "code",
   "execution_count": 23,
   "metadata": {
    "collapsed": false
   },
   "outputs": [],
   "source": [
    "# Save the edge_types file which we will view below. As when saving the nodes, there are\n",
    "# optional columns to save based on user applications. Here we give all the columns that\n",
    "# are required for our case.\n",
    "net.save_edges(edges_file_name='edges.h5', edge_types_file_name='edge_types.csv', output_dir=directory_name)\n",
    "\n",
    "\n",
    "#net.save_edge_types(edge_types_file, \n",
    "#                    opt_columns=['weight_max', 'distance_range','target_sections', \n",
    "#                                                  'delay', 'params_file', 'set_params_function'])\n",
    "\n",
    "# The edges are saved in a HDF5 format. If you would like to see how they are saved, you\n",
    "# will need to install special software (HDFviewer or Vitables are good options.)\n",
    "#net.save_edges(filename=edges_file)"
   ]
  },
  {
   "cell_type": "markdown",
   "metadata": {},
   "source": [
    "<div style=\"border-left: 3px solid #000; padding: 1px; padding-left: 10px; background: #F0FAFF; \\\">\n",
    "Below we only show the edge_types file as the description of the edges is in a .h5 file format and can't be show here. If you have any questions about it, please ask us and we are happy to give you more detailed about how it is saved. If you would like to see how they are saved, you\n",
    "will need to install special software (HDFviewer or Vitables are good options.)\n",
    "</div>"
   ]
  },
  {
   "cell_type": "code",
   "execution_count": 24,
   "metadata": {
    "collapsed": false,
    "scrolled": true
   },
   "outputs": [
    {
     "name": "stderr",
     "output_type": "stream",
     "text": [
      "/home/kael/apps/miniconda2/envs/bmtk-py36/lib/python3.6/site-packages/ipykernel/__main__.py:1: FutureWarning: from_csv is deprecated. Please use read_csv(...) instead. Note that some of the default arguments are different, so please refer to the documentation for from_csv when changing your function calls\n",
      "  if __name__ == '__main__':\n"
     ]
    },
    {
     "data": {
      "text/html": [
       "<div>\n",
       "<style scoped>\n",
       "    .dataframe tbody tr th:only-of-type {\n",
       "        vertical-align: middle;\n",
       "    }\n",
       "\n",
       "    .dataframe tbody tr th {\n",
       "        vertical-align: top;\n",
       "    }\n",
       "\n",
       "    .dataframe thead th {\n",
       "        text-align: right;\n",
       "    }\n",
       "</style>\n",
       "<table border=\"1\" class=\"dataframe\">\n",
       "  <thead>\n",
       "    <tr style=\"text-align: right;\">\n",
       "      <th></th>\n",
       "      <th>target_query</th>\n",
       "      <th>source_query</th>\n",
       "      <th>syn_weight</th>\n",
       "      <th>target_sections</th>\n",
       "      <th>delay</th>\n",
       "      <th>dynamics_params</th>\n",
       "      <th>model_template</th>\n",
       "      <th>distance_range</th>\n",
       "    </tr>\n",
       "    <tr>\n",
       "      <th>edge_type_id</th>\n",
       "      <th></th>\n",
       "      <th></th>\n",
       "      <th></th>\n",
       "      <th></th>\n",
       "      <th></th>\n",
       "      <th></th>\n",
       "      <th></th>\n",
       "      <th></th>\n",
       "    </tr>\n",
       "  </thead>\n",
       "  <tbody>\n",
       "    <tr>\n",
       "      <th>100</th>\n",
       "      <td>ei=='i'&amp;model_type=='biophysical'</td>\n",
       "      <td>ei=='i'</td>\n",
       "      <td>0.03</td>\n",
       "      <td>['somatic', 'basal']</td>\n",
       "      <td>2.0</td>\n",
       "      <td>GABA_InhToInh.json</td>\n",
       "      <td>exp2syn</td>\n",
       "      <td>[0.0, 1e+20]</td>\n",
       "    </tr>\n",
       "    <tr>\n",
       "      <th>101</th>\n",
       "      <td>ei=='i'&amp;model_type=='point_process'</td>\n",
       "      <td>ei=='i'</td>\n",
       "      <td>0.30</td>\n",
       "      <td>NaN</td>\n",
       "      <td>2.0</td>\n",
       "      <td>instanteneousInh.json</td>\n",
       "      <td>NaN</td>\n",
       "      <td>NaN</td>\n",
       "    </tr>\n",
       "    <tr>\n",
       "      <th>102</th>\n",
       "      <td>ei=='e'&amp;level_of_detail=='biophysical'</td>\n",
       "      <td>ei=='i'</td>\n",
       "      <td>0.30</td>\n",
       "      <td>['somatic', 'basal', 'apical']</td>\n",
       "      <td>2.0</td>\n",
       "      <td>GABA_InhToExc.json</td>\n",
       "      <td>exp2syn</td>\n",
       "      <td>[0.0, 50.0]</td>\n",
       "    </tr>\n",
       "    <tr>\n",
       "      <th>103</th>\n",
       "      <td>ei=='e'&amp;level_of_detail=='intfire'</td>\n",
       "      <td>ei=='i'</td>\n",
       "      <td>0.40</td>\n",
       "      <td>NaN</td>\n",
       "      <td>2.0</td>\n",
       "      <td>instanteneousInh.json</td>\n",
       "      <td>NaN</td>\n",
       "      <td>NaN</td>\n",
       "    </tr>\n",
       "    <tr>\n",
       "      <th>104</th>\n",
       "      <td>pop_name=='PV1'</td>\n",
       "      <td>ei=='e'</td>\n",
       "      <td>0.05</td>\n",
       "      <td>['somatic', 'basal']</td>\n",
       "      <td>2.0</td>\n",
       "      <td>AMPA_ExcToInh.json</td>\n",
       "      <td>exp2syn</td>\n",
       "      <td>[0.0, 1e+20]</td>\n",
       "    </tr>\n",
       "    <tr>\n",
       "      <th>105</th>\n",
       "      <td>pop_name=='LIF_inh'</td>\n",
       "      <td>ei=='e'</td>\n",
       "      <td>0.20</td>\n",
       "      <td>NaN</td>\n",
       "      <td>2.0</td>\n",
       "      <td>instanteneousExc.json</td>\n",
       "      <td>NaN</td>\n",
       "      <td>NaN</td>\n",
       "    </tr>\n",
       "    <tr>\n",
       "      <th>106</th>\n",
       "      <td>pop_name=='Scnn1a'</td>\n",
       "      <td>ei=='e'</td>\n",
       "      <td>0.05</td>\n",
       "      <td>['basal', 'apical']</td>\n",
       "      <td>2.0</td>\n",
       "      <td>AMPA_ExcToExc.json</td>\n",
       "      <td>exp2syn</td>\n",
       "      <td>[30.0, 150.0]</td>\n",
       "    </tr>\n",
       "    <tr>\n",
       "      <th>107</th>\n",
       "      <td>pop_name=='LIF_exc'</td>\n",
       "      <td>ei=='e'</td>\n",
       "      <td>0.05</td>\n",
       "      <td>NaN</td>\n",
       "      <td>2.0</td>\n",
       "      <td>instanteneousExc.json</td>\n",
       "      <td>NaN</td>\n",
       "      <td>NaN</td>\n",
       "    </tr>\n",
       "  </tbody>\n",
       "</table>\n",
       "</div>"
      ],
      "text/plain": [
       "                                        target_query source_query  syn_weight  \\\n",
       "edge_type_id                                                                    \n",
       "100                ei=='i'&model_type=='biophysical'      ei=='i'        0.03   \n",
       "101              ei=='i'&model_type=='point_process'      ei=='i'        0.30   \n",
       "102           ei=='e'&level_of_detail=='biophysical'      ei=='i'        0.30   \n",
       "103               ei=='e'&level_of_detail=='intfire'      ei=='i'        0.40   \n",
       "104                                  pop_name=='PV1'      ei=='e'        0.05   \n",
       "105                              pop_name=='LIF_inh'      ei=='e'        0.20   \n",
       "106                               pop_name=='Scnn1a'      ei=='e'        0.05   \n",
       "107                              pop_name=='LIF_exc'      ei=='e'        0.05   \n",
       "\n",
       "                             target_sections  delay        dynamics_params  \\\n",
       "edge_type_id                                                                 \n",
       "100                     ['somatic', 'basal']    2.0     GABA_InhToInh.json   \n",
       "101                                      NaN    2.0  instanteneousInh.json   \n",
       "102           ['somatic', 'basal', 'apical']    2.0     GABA_InhToExc.json   \n",
       "103                                      NaN    2.0  instanteneousInh.json   \n",
       "104                     ['somatic', 'basal']    2.0     AMPA_ExcToInh.json   \n",
       "105                                      NaN    2.0  instanteneousExc.json   \n",
       "106                      ['basal', 'apical']    2.0     AMPA_ExcToExc.json   \n",
       "107                                      NaN    2.0  instanteneousExc.json   \n",
       "\n",
       "             model_template distance_range  \n",
       "edge_type_id                                \n",
       "100                 exp2syn   [0.0, 1e+20]  \n",
       "101                     NaN            NaN  \n",
       "102                 exp2syn    [0.0, 50.0]  \n",
       "103                     NaN            NaN  \n",
       "104                 exp2syn   [0.0, 1e+20]  \n",
       "105                     NaN            NaN  \n",
       "106                 exp2syn  [30.0, 150.0]  \n",
       "107                     NaN            NaN  "
      ]
     },
     "execution_count": 24,
     "metadata": {},
     "output_type": "execute_result"
    }
   ],
   "source": [
    "edge_types_DF = pd.DataFrame.from_csv('network/recurrent_network/edge_types.csv', sep = ' ')\n",
    "edge_types_DF"
   ]
  },
  {
   "cell_type": "markdown",
   "metadata": {},
   "source": [
    "<div style=\"border-left: 3px solid #000; padding: 1px; padding-left: 10px; background: #F0FAFF; \\\">\n",
    "<h1>Build input driving sources</h1>\n",
    "In a parallel manner to before, we will now create the input network and connect it to the excitatory cells we have already made. \n",
    "</div>"
   ]
  },
  {
   "cell_type": "markdown",
   "metadata": {},
   "source": [
    "<img src=\"schematics_png/External_input_connected.png\" alt=Drawing style=\"width: 500px;\">"
   ]
  },
  {
   "cell_type": "code",
   "execution_count": 25,
   "metadata": {
    "collapsed": true
   },
   "outputs": [],
   "source": [
    "# Will save the output files in a parallel manner to what we did before.\n",
    "\n",
    "# Output file names\n",
    "directory_name = 'network/source_input/'\n",
    "\n",
    "#if not os.path.exists(directory_name):\n",
    "#    os.makedirs(directory_name)\n",
    "    \n",
    "#input_nodes_file        = directory_name + 'input_nodes.csv'\n",
    "#input_models_file       = directory_name + 'input_node_types.csv'\n",
    "#input_edge_types_file   = directory_name + 'input_edge_types.csv'\n",
    "#input_edges_file        = directory_name + 'input_edges.h5'"
   ]
  },
  {
   "cell_type": "markdown",
   "metadata": {},
   "source": [
    "<div style=\"border-left: 3px solid #000; padding: 1px; padding-left: 10px; background: #F0FAFF; \\\">\n",
    "<h2>Builing input sources</h2>\n",
    "</div>"
   ]
  },
  {
   "cell_type": "code",
   "execution_count": 26,
   "metadata": {
    "collapsed": true
   },
   "outputs": [],
   "source": [
    "# Create input dictionary. Will use \"virtual\" in this example and the dictionary \n",
    "# has already been created for you below. In the following you will create the nodes\n",
    "# and save them as was done for the recurrent network. Note that we are making 25 \n",
    "# external nodes. In reality, we are just creating nodes that will spike and not filtering \n",
    "# any stimulus in particular.\n",
    "\n",
    "filter_models = {\n",
    "    'inputFilter': {\n",
    "        'N': 25, \n",
    "        'ei': 'e', \n",
    "        'pop_name': 'input_filter', \n",
    "        'model_type': 'virtual'\n",
    "    }\n",
    "}"
   ]
  },
  {
   "cell_type": "code",
   "execution_count": 27,
   "metadata": {
    "collapsed": true
   },
   "outputs": [],
   "source": [
    "# Create a network object\n",
    "inputNetwork = NetworkBuilder(\"inputNetwork\")"
   ]
  },
  {
   "cell_type": "markdown",
   "metadata": {},
   "source": [
    "<div style=\"background: #DFF0D8; border-radius: 3px; padding: 10px; \\\">\n",
    "<h3>Exercise 4:</h3>\n",
    "Create and an external network with the dictionary parameters given above. Note that here less parameters are needed than before.\n",
    "</div>"
   ]
  },
  {
   "cell_type": "code",
   "execution_count": 28,
   "metadata": {
    "collapsed": true
   },
   "outputs": [],
   "source": [
    "# Add each cell type to the network\n",
    "for model, params in filter_models.items():\n",
    "    inputNetwork.add_nodes(params['N'],\n",
    "                           pop_name=params['pop_name'],\n",
    "                           model_type = params['model_type'],\n",
    "                           ei=params['ei'])"
   ]
  },
  {
   "cell_type": "markdown",
   "metadata": {},
   "source": [
    "<div style=\"background: #DFF0D8; border-radius: 3px; padding: 10px; \\\">\n",
    "<h3>Exercise 5:</h3>\n",
    "<p> Save the input network as done before.   \n",
    "<p>- For the save_cells fuction, use: columns=['node_id', 'node_type_id', 'ei', 'pop_name']  \n",
    "<p>- For the save_types function, use: columns=['node_type_id', 'level_of_detail']\n",
    "</div>"
   ]
  },
  {
   "cell_type": "code",
   "execution_count": 29,
   "metadata": {
    "collapsed": true
   },
   "outputs": [],
   "source": [
    "inputNetwork.save_nodes(nodes_file_name='nodes.h5', node_types_file_name='node_types.csv', output_dir=directory_name)\n",
    "\n",
    "#inputNetwork.save_nodes()"
   ]
  },
  {
   "cell_type": "code",
   "execution_count": 30,
   "metadata": {
    "collapsed": false
   },
   "outputs": [
    {
     "data": {
      "text/html": [
       "<div>\n",
       "<style scoped>\n",
       "    .dataframe tbody tr th:only-of-type {\n",
       "        vertical-align: middle;\n",
       "    }\n",
       "\n",
       "    .dataframe tbody tr th {\n",
       "        vertical-align: top;\n",
       "    }\n",
       "\n",
       "    .dataframe thead th {\n",
       "        text-align: right;\n",
       "    }\n",
       "</style>\n",
       "<table border=\"1\" class=\"dataframe\">\n",
       "  <thead>\n",
       "    <tr style=\"text-align: right;\">\n",
       "      <th></th>\n",
       "      <th>node_id</th>\n",
       "      <th>node_type_id</th>\n",
       "    </tr>\n",
       "  </thead>\n",
       "  <tbody>\n",
       "    <tr>\n",
       "      <th>0</th>\n",
       "      <td>0</td>\n",
       "      <td>100</td>\n",
       "    </tr>\n",
       "    <tr>\n",
       "      <th>1</th>\n",
       "      <td>1</td>\n",
       "      <td>100</td>\n",
       "    </tr>\n",
       "    <tr>\n",
       "      <th>2</th>\n",
       "      <td>2</td>\n",
       "      <td>100</td>\n",
       "    </tr>\n",
       "    <tr>\n",
       "      <th>3</th>\n",
       "      <td>3</td>\n",
       "      <td>100</td>\n",
       "    </tr>\n",
       "    <tr>\n",
       "      <th>4</th>\n",
       "      <td>4</td>\n",
       "      <td>100</td>\n",
       "    </tr>\n",
       "  </tbody>\n",
       "</table>\n",
       "</div>"
      ],
      "text/plain": [
       "   node_id  node_type_id\n",
       "0        0           100\n",
       "1        1           100\n",
       "2        2           100\n",
       "3        3           100\n",
       "4        4           100"
      ]
     },
     "execution_count": 30,
     "metadata": {},
     "output_type": "execute_result"
    }
   ],
   "source": [
    "# Print the first 5 external nodes\n",
    "input_nodes_DF=nodes_table('network/source_input/nodes.h5', 'inputNetwork')\n",
    "#input_nodes_DF = pd.DataFrame.from_csv(input_nodes_file, sep = ' ')\n",
    "input_nodes_DF[:5]"
   ]
  },
  {
   "cell_type": "code",
   "execution_count": 31,
   "metadata": {
    "collapsed": false
   },
   "outputs": [
    {
     "name": "stderr",
     "output_type": "stream",
     "text": [
      "/home/kael/apps/miniconda2/envs/bmtk-py36/lib/python3.6/site-packages/ipykernel/__main__.py:2: FutureWarning: from_csv is deprecated. Please use read_csv(...) instead. Note that some of the default arguments are different, so please refer to the documentation for from_csv when changing your function calls\n",
      "  from ipykernel import kernelapp as app\n"
     ]
    },
    {
     "data": {
      "text/html": [
       "<div>\n",
       "<style scoped>\n",
       "    .dataframe tbody tr th:only-of-type {\n",
       "        vertical-align: middle;\n",
       "    }\n",
       "\n",
       "    .dataframe tbody tr th {\n",
       "        vertical-align: top;\n",
       "    }\n",
       "\n",
       "    .dataframe thead th {\n",
       "        text-align: right;\n",
       "    }\n",
       "</style>\n",
       "<table border=\"1\" class=\"dataframe\">\n",
       "  <thead>\n",
       "    <tr style=\"text-align: right;\">\n",
       "      <th></th>\n",
       "      <th>ei</th>\n",
       "      <th>pop_name</th>\n",
       "      <th>model_type</th>\n",
       "    </tr>\n",
       "    <tr>\n",
       "      <th>node_type_id</th>\n",
       "      <th></th>\n",
       "      <th></th>\n",
       "      <th></th>\n",
       "    </tr>\n",
       "  </thead>\n",
       "  <tbody>\n",
       "    <tr>\n",
       "      <th>100</th>\n",
       "      <td>e</td>\n",
       "      <td>input_filter</td>\n",
       "      <td>virtual</td>\n",
       "    </tr>\n",
       "  </tbody>\n",
       "</table>\n",
       "</div>"
      ],
      "text/plain": [
       "             ei      pop_name model_type\n",
       "node_type_id                            \n",
       "100           e  input_filter    virtual"
      ]
     },
     "execution_count": 31,
     "metadata": {},
     "output_type": "execute_result"
    }
   ],
   "source": [
    "# Print the external node types\n",
    "input_node_types_DF = pd.DataFrame.from_csv('network/source_input/node_types.csv', sep = ' ')\n",
    "input_node_types_DF"
   ]
  },
  {
   "cell_type": "markdown",
   "metadata": {},
   "source": [
    "<div style=\"border-left: 3px solid #000; padding: 1px; padding-left: 10px; background: #F0FAFF; \\\">\n",
    "<h2>Connect input sources to recurrent network</h2>\n",
    "Although it is already in memory, we will load the recurrent network again under a different name to illustrate how one can load older networks.\n",
    "</div>"
   ]
  },
  {
   "cell_type": "code",
   "execution_count": 32,
   "metadata": {
    "collapsed": true
   },
   "outputs": [],
   "source": [
    "# If want to load saved recurrent network from before. \n",
    "# This is done to show how to load a network.\n",
    "#net_saved = SynNetwork.load(name='original_nodes', nodes=nodes_file,\n",
    "#                              positions=['x_soma', 'y_soma', 'z_soma'])"
   ]
  },
  {
   "cell_type": "code",
   "execution_count": 33,
   "metadata": {
    "collapsed": true
   },
   "outputs": [],
   "source": [
    "# Defining a function that will select source sources to connect to the network.\n",
    "# In this example, all source cells will connect but this gives you an idea of\n",
    "# how custom functions can be created to select subsets of input sources nodes.\n",
    "# Also we here introduce a new concept for connecting nodes. Here the function\n",
    "# receives all sources and a single target. An algorithm can determine which\n",
    "# sources connect to the given target. The function will return a list of length\n",
    "# equal to the number of sources. The elements in the list can be either N_syn\n",
    "# everytime there is a connection or None when there is no connection.\n",
    "def select_source_cells(sources, target, N_syn):\n",
    "    '''\n",
    "    Note here that sources are given (not source). So the iterations occur through every target \n",
    "    with all sources as potential inputs. Faster that before and better if will have common rules.\n",
    "    '''\n",
    "\n",
    "    target_id = target.node_id\n",
    "    source_ids = [s.node_id for s in sources]\n",
    "\n",
    "    nsyns_ret = [N_syn]*len(source_ids)\n",
    "    return nsyns_ret"
   ]
  },
  {
   "cell_type": "code",
   "execution_count": 34,
   "metadata": {
    "collapsed": true
   },
   "outputs": [],
   "source": [
    "# Similar to as was done for the recurrent network.  \n",
    "cparams = {'N_syn': 10}"
   ]
  },
  {
   "cell_type": "code",
   "execution_count": 35,
   "metadata": {
    "collapsed": false
   },
   "outputs": [
    {
     "data": {
      "text/plain": [
       "<bmtk.builder.connection_map.ConnectionMap at 0x7fa5c1e52ba8>"
      ]
     },
     "execution_count": 35,
     "metadata": {},
     "output_type": "execute_result"
    }
   ],
   "source": [
    "# Connect the external population to the biophysical exctitaory nodes (Scnn1a).\n",
    "# This is the same format as before, but note that this time we give an input\n",
    "# to the connect function called \"iterator\". Previously, when we did not use this\n",
    "# the default \"one_to_one\" was used. When in the default \"one_to_one\" case, the \n",
    "# connector function iterates through every source and target one by one. When\n",
    "# the iterator is \"all_to_one\", the connector function will expect all sources\n",
    "# to be received together for every target. Other options are \"one_to_all\". The\n",
    "# final option \"all_to_all\" is still not available.\n",
    "inputNetwork.add_edges(target=net.nodes(pop_name='Scnn1a'),\n",
    "                       iterator='all_to_one',\n",
    "                       connection_rule=select_source_cells,\n",
    "                       connection_params=cparams,\n",
    "                       syn_weight=0.0007, \n",
    "                       distance_range=[0.0, 150.0],\n",
    "                       target_sections=['basal', 'apical'],\n",
    "                       delay=2.0,\n",
    "                       dynamics_params='AMPA_ExcToExc.json',\n",
    "                       model_template='exp2syn')"
   ]
  },
  {
   "cell_type": "markdown",
   "metadata": {},
   "source": [
    "<div style=\"background: #DFF0D8; border-radius: 3px; padding: 10px; \\\">\n",
    "<h3>Excercise 6:</h3>\n",
    "Below we connect the souce network to the LIF excitatory neurons. Change the pop_name to the pop_name you defined previously for LIF excitatory nodes.\n",
    "</div>"
   ]
  },
  {
   "cell_type": "code",
   "execution_count": 36,
   "metadata": {
    "collapsed": false
   },
   "outputs": [
    {
     "data": {
      "text/plain": [
       "<bmtk.builder.connection_map.ConnectionMap at 0x7fa5c1e52a20>"
      ]
     },
     "execution_count": 36,
     "metadata": {},
     "output_type": "execute_result"
    }
   ],
   "source": [
    "# Connect the external population to the LIF exctitaory nodes \n",
    "# USE \"pop_name\" YOU DEFINED BEFORE\n",
    "inputNetwork.add_edges(target=net.nodes(pop_name='LIF_exc'),\n",
    "                       iterator='all_to_one',\n",
    "                       connection_rule=select_source_cells,\n",
    "                       connection_params=cparams,\n",
    "                       syn_weight=0.07,\n",
    "                       delay=2.0,\n",
    "                       dynamics_params='instanteneousExc.json')"
   ]
  },
  {
   "cell_type": "code",
   "execution_count": 37,
   "metadata": {
    "collapsed": false
   },
   "outputs": [],
   "source": [
    "# If want to connect input to inhibitory\n",
    "#inputNetwork.add_edges(target=net.nodes(pop_name='PV1'),\n",
    "#                       iterator='all_to_one',\n",
    "#                       connection_rule=select_source_cells,\n",
    "#                       connection_params=cparams,\n",
    "#                       syn_weight=0.002, \n",
    "#                       distance_range=[0.0, 1.0e+20],\n",
    "#                       target_sections=['basal', 'somatic'],\n",
    "#                       delay=2.0,\n",
    "#                       dynamics_params='AMPA_ExcToInh.json',\n",
    "#                       model_template='exp2syn')\n",
    "\n",
    "#inputNetwork.add_edges(target=net.nodes(pop_name='LIF_inh'),\n",
    "#                       iterator='all_to_one',\n",
    "#                       connection_rule=select_source_cells,\n",
    "#                       connection_params=cparams,\n",
    "#                       syn_weight=0.01,\n",
    "#                       delay=2.0,\n",
    "#                       dynamics_params='instanteneousExc.json')\n"
   ]
  },
  {
   "cell_type": "markdown",
   "metadata": {},
   "source": [
    "<div style=\"border-left: 3px solid #000; padding: 1px; padding-left: 10px; background: #F0FAFF; \\\">\n",
    "<h3>Build the network and save the edges</h3>\n",
    "The same functions are before.\n",
    "</div>"
   ]
  },
  {
   "cell_type": "code",
   "execution_count": 38,
   "metadata": {
    "collapsed": false
   },
   "outputs": [],
   "source": [
    "inputNetwork.build()"
   ]
  },
  {
   "cell_type": "code",
   "execution_count": 39,
   "metadata": {
    "collapsed": false
   },
   "outputs": [],
   "source": [
    "inputNetwork.save_edges(edges_file_name='edges.h5', edge_types_file_name='edge_types.csv', output_dir=directory_name)\n",
    "\n",
    "\n",
    "#net_saved.save_edge_types(input_edge_types_file, opt_columns=['weight_max', 'distance_range',\n",
    "#                                                  'target_sections', 'delay', 'params_file', 'set_params_function'])\n",
    "#\n",
    "#net_saved.save_edges(filename=input_edges_file)"
   ]
  },
  {
   "cell_type": "code",
   "execution_count": 40,
   "metadata": {
    "collapsed": false
   },
   "outputs": [
    {
     "name": "stderr",
     "output_type": "stream",
     "text": [
      "/home/kael/apps/miniconda2/envs/bmtk-py36/lib/python3.6/site-packages/ipykernel/__main__.py:1: FutureWarning: from_csv is deprecated. Please use read_csv(...) instead. Note that some of the default arguments are different, so please refer to the documentation for from_csv when changing your function calls\n",
      "  if __name__ == '__main__':\n"
     ]
    },
    {
     "data": {
      "text/html": [
       "<div>\n",
       "<style scoped>\n",
       "    .dataframe tbody tr th:only-of-type {\n",
       "        vertical-align: middle;\n",
       "    }\n",
       "\n",
       "    .dataframe tbody tr th {\n",
       "        vertical-align: top;\n",
       "    }\n",
       "\n",
       "    .dataframe thead th {\n",
       "        text-align: right;\n",
       "    }\n",
       "</style>\n",
       "<table border=\"1\" class=\"dataframe\">\n",
       "  <thead>\n",
       "    <tr style=\"text-align: right;\">\n",
       "      <th></th>\n",
       "      <th>target_query</th>\n",
       "      <th>source_query</th>\n",
       "      <th>syn_weight</th>\n",
       "      <th>target_sections</th>\n",
       "      <th>delay</th>\n",
       "      <th>dynamics_params</th>\n",
       "      <th>model_template</th>\n",
       "      <th>distance_range</th>\n",
       "    </tr>\n",
       "    <tr>\n",
       "      <th>edge_type_id</th>\n",
       "      <th></th>\n",
       "      <th></th>\n",
       "      <th></th>\n",
       "      <th></th>\n",
       "      <th></th>\n",
       "      <th></th>\n",
       "      <th></th>\n",
       "      <th></th>\n",
       "    </tr>\n",
       "  </thead>\n",
       "  <tbody>\n",
       "    <tr>\n",
       "      <th>100</th>\n",
       "      <td>pop_name=='Scnn1a'</td>\n",
       "      <td>*</td>\n",
       "      <td>0.0007</td>\n",
       "      <td>['basal', 'apical']</td>\n",
       "      <td>2.0</td>\n",
       "      <td>AMPA_ExcToExc.json</td>\n",
       "      <td>exp2syn</td>\n",
       "      <td>[0.0, 150.0]</td>\n",
       "    </tr>\n",
       "    <tr>\n",
       "      <th>101</th>\n",
       "      <td>pop_name=='LIF_exc'</td>\n",
       "      <td>*</td>\n",
       "      <td>0.0700</td>\n",
       "      <td>NaN</td>\n",
       "      <td>2.0</td>\n",
       "      <td>instanteneousExc.json</td>\n",
       "      <td>NaN</td>\n",
       "      <td>NaN</td>\n",
       "    </tr>\n",
       "  </tbody>\n",
       "</table>\n",
       "</div>"
      ],
      "text/plain": [
       "                     target_query source_query  syn_weight  \\\n",
       "edge_type_id                                                 \n",
       "100            pop_name=='Scnn1a'            *      0.0007   \n",
       "101           pop_name=='LIF_exc'            *      0.0700   \n",
       "\n",
       "                  target_sections  delay        dynamics_params  \\\n",
       "edge_type_id                                                      \n",
       "100           ['basal', 'apical']    2.0     AMPA_ExcToExc.json   \n",
       "101                           NaN    2.0  instanteneousExc.json   \n",
       "\n",
       "             model_template distance_range  \n",
       "edge_type_id                                \n",
       "100                 exp2syn   [0.0, 150.0]  \n",
       "101                     NaN            NaN  "
      ]
     },
     "execution_count": 40,
     "metadata": {},
     "output_type": "execute_result"
    }
   ],
   "source": [
    "input_edge_types_DF = pd.DataFrame.from_csv('network/source_input/edge_types.csv', sep = ' ')\n",
    "input_edge_types_DF"
   ]
  },
  {
   "cell_type": "markdown",
   "metadata": {},
   "source": [
    "<div style=\"border-left: 3px solid #000; padding: 1px; padding-left: 10px; background: #F0FAFF; \\\">\n",
    "<h3>Explore the directory structure</h3>\n",
    "At this point you may want to explore the directory structure that has been created to see how and where the files were saved. \n",
    "</div>"
   ]
  },
  {
   "cell_type": "markdown",
   "metadata": {},
   "source": [
    "<div style=\"border-left: 3px solid #000; padding: 1px; padding-left: 10px; background: #F0FAFF; \\\">\n",
    "<h2>Create spike times of input cells</h2>\n",
    "In addition to creating connectivity between the external population and the recurrent population, we need to define what input the external population is giving. This will be in the form of spike trains as illustrated below and is the last step for creating a network and running it.\n",
    "</div>"
   ]
  },
  {
   "cell_type": "markdown",
   "metadata": {},
   "source": [
    "<img src=\"schematics_png/Full_figure.png\" alt=Drawing style=\"width: 500px;\">"
   ]
  },
  {
   "cell_type": "markdown",
   "metadata": {},
   "source": [
    "<div style=\"border-left: 3px solid #000; padding: 1px; padding-left: 10px; background: #F0FAFF; \\\">\n",
    "<h3>Spike train</h3>\n",
    "Below is code that will create spike-trains for every neuron drawn from a Poisson process. A firing rate is set for all neurons and the final output file is saved in an nwb format (neurodata without borders) which we will not be discussing in this tutorial but feel free to ask a TA for more information.\n",
    "</div>"
   ]
  },
  {
   "cell_type": "code",
   "execution_count": 41,
   "metadata": {
    "collapsed": false
   },
   "outputs": [],
   "source": [
    "\"\"\"\n",
    "import modelingsdk.simulator.utils.nwb as nwb\n",
    "\n",
    "# Based on algorithm from Dayan and Abbott and the following website:\n",
    "# https://praneethnamburi.wordpress.com/2015/02/05/simulating-neural-spike-trains/\n",
    "\n",
    "firingRate = 0.5           # Hz\n",
    "dt = 1./1000               # 1 millisecond time bins\n",
    "totalTime = 10000          # Milliseconds\n",
    "time = np.arange(0, totalTime, dt*1000)\n",
    "\n",
    "input_spike_file_name = directory_name + 'poisson_input_spk_train.nwb'\n",
    "# Write nwb file:\n",
    "f = nwb.create_blank_file(input_spike_file_name, force=True)\n",
    "\n",
    "numNeurons = filter_models['inputFilter']['N']\n",
    "numTrials  = 2\n",
    "for gid in range(numNeurons):\n",
    "    for trial_number in range(numTrials):\n",
    "        PoissonTrain = np.random.rand(1, int(totalTime)) < (firingRate * dt)\n",
    "        spkTimes = time[PoissonTrain[0]]\n",
    "        nwb.SpikeTrain(spkTimes, unit='millisecond').add_to_processing(f, 'trial_%s' % trial_number)\n",
    "f.close()\n",
    "\"\"\"\n",
    "gids = [n.node_id for n in inputNetwork.nodes()]\n",
    "from bmtk.utils.io.spike_trains import PoissonSpikesGenerator\n",
    "\n",
    "psg = PoissonSpikesGenerator(gids=gids, firing_rate=0.5, tstart=0.0, tstop=10000.0) \n",
    "psg.to_hdf5(file_name='network/source_input/poission_input_spk_train.h5')"
   ]
  },
  {
   "cell_type": "code",
   "execution_count": 42,
   "metadata": {
    "collapsed": false
   },
   "outputs": [],
   "source": [
    "#import h5py\n",
    "#spikes_h5 = h5py.File('network/source_input/poission_input_spk_train.h5', 'r')\n",
    "#print spikes_h5['/spikes/timestamps'][...]"
   ]
  },
  {
   "cell_type": "markdown",
   "metadata": {},
   "source": [
    "<div style=\"border-left: 3px solid #000; padding: 1px; padding-left: 10px; background: #F0FAFF; \\\">\n",
    "<h1>Config file</h1>\n",
    "With so many files created (nodes, edges, spiking) and given (morpholgies, e-phys parameters), everything needs to be integrated together which is done in a config file. This file has already been created and below we are printing it. Feel free to also look at the config file directly as it will look better than the print function below.\n",
    "</div>"
   ]
  },
  {
   "cell_type": "code",
   "execution_count": 43,
   "metadata": {
    "collapsed": false,
    "scrolled": false
   },
   "outputs": [
    {
     "name": "stdout",
     "output_type": "stream",
     "text": [
      "{'components': {'biophysical_neuron_models_dir': '$COMPONENT_DIR/biophysical/electrophysiology',\n",
      "                'mechanisms_dir': '$COMPONENT_DIR/mechanisms',\n",
      "                'morphologies_dir': '$COMPONENT_DIR/biophysical/morphology',\n",
      "                'point_neuron_models_dir': '$COMPONENT_DIR/intfire',\n",
      "                'synaptic_models_dir': '$COMPONENT_DIR/synaptic_models'},\n",
      " 'conditions': {'celsius': 34.0, 'v_init': -80},\n",
      " 'inputs': {'spike_trains': {'input_file': '$INPUT_DIR/poission_input_spk_train.h5',\n",
      "                             'input_type': 'spikes',\n",
      "                             'module': 'h5',\n",
      "                             'node_set': 'inputNetwork'}},\n",
      " 'manifest': {'$BASE_DIR': '${configdir}',\n",
      "              '$COMPONENT_DIR': '$BASE_DIR/components',\n",
      "              '$INPUT_DIR': '$BASE_DIR/network/source_input',\n",
      "              '$NETWORK_DIR': '$BASE_DIR/network',\n",
      "              '$OUTPUT_DIR': '$BASE_DIR/output'},\n",
      " 'networks': {'edges': [{'edge_types_file': '$NETWORK_DIR/recurrent_network/edge_types.csv',\n",
      "                         'edges_file': '$NETWORK_DIR/recurrent_network/edges.h5'},\n",
      "                        {'edge_types_file': '$NETWORK_DIR/source_input/edge_types.csv',\n",
      "                         'edges_file': '$NETWORK_DIR/source_input/edges.h5'}],\n",
      "              'nodes': [{'node_types_file': '$NETWORK_DIR/recurrent_network/node_types.csv',\n",
      "                         'nodes_file': '$NETWORK_DIR/recurrent_network/nodes.h5'},\n",
      "                        {'node_types_file': '$NETWORK_DIR/source_input/node_types.csv',\n",
      "                         'nodes_file': '$NETWORK_DIR/source_input/nodes.h5'}]},\n",
      " 'node_sets': {'bio_nodes': {'model_type': 'biophysical'}},\n",
      " 'output': {'log_file': '$OUTPUT_DIR/log.txt',\n",
      "            'output_dir': '$OUTPUT_DIR',\n",
      "            'spikes_file': '$OUTPUT_DIR/spikes.h5',\n",
      "            'spikes_file_csv': '$OUTPUT_DIR/spikes.csv',\n",
      "            'spikes_sort_order': 'time'},\n",
      " 'reports': {'calcium_concentration': {'cells': 'bio_nodes',\n",
      "                                       'enabled': True,\n",
      "                                       'file_name': '$OUTPUT_DIR/cell_vars.h5',\n",
      "                                       'module': 'membrane_report',\n",
      "                                       'sections': 'soma',\n",
      "                                       'variable_name': 'cai'},\n",
      "             'membrane_potential': {'cells': 'bio_nodes',\n",
      "                                    'enabled': True,\n",
      "                                    'file_name': '$OUTPUT_DIR/cell_vars.h5',\n",
      "                                    'module': 'membrane_report',\n",
      "                                    'sections': 'soma',\n",
      "                                    'variable_name': 'v'}},\n",
      " 'run': {'dL': 20.0,\n",
      "         'dt': 0.1,\n",
      "         'nsteps_block': 5000,\n",
      "         'overwrite_output_dir': True,\n",
      "         'spike_threshold': -15,\n",
      "         'tstop': 3000.0},\n",
      " 'target_simulator': 'NEURON'}\n"
     ]
    }
   ],
   "source": [
    "import json\n",
    "import pprint\n",
    "\n",
    "with open('config.json') as config:\n",
    "    config_file = json.load(config)\n",
    "\n",
    "pprint.pprint(config_file)\n"
   ]
  },
  {
   "cell_type": "markdown",
   "metadata": {},
   "source": [
    "<div style=\"border-left: 3px solid #000; padding: 1px; padding-left: 10px; background: #F0FAFF; \\\">\n",
    "<h1>Run function</h1>\n",
    "Below is the run fuction that will read the config file and run our simulation on NEURON. Feel free to examine it if you are interested. Otherwise, the next cell simply calls the function and gives in the config file.\n",
    "</div>"
   ]
  },
  {
   "cell_type": "code",
   "execution_count": 44,
   "metadata": {
    "collapsed": false
   },
   "outputs": [
    {
     "name": "stdout",
     "output_type": "stream",
     "text": [
      "2018-06-11 17:29:38,074 [INFO] Created log file\n",
      "2018-06-11 17:29:38,153 [INFO] Building cells.\n",
      "2018-06-11 17:29:38,516 [INFO] Building recurrent connections\n",
      "2018-06-11 17:29:38,563 [INFO] Build virtual cell stimulations for spike_trains\n",
      "2018-06-11 17:29:38,676 [INFO] Running simulation for 3000.000 ms with the time step 0.100 ms\n",
      "2018-06-11 17:29:38,676 [INFO] Starting timestep: 0 at t_sim: 0.000 ms\n",
      "2018-06-11 17:29:38,677 [INFO] Block save every 5000 steps\n",
      "2018-06-11 17:29:39,079 [INFO]     step:5000 t_sim:500.000 ms\n",
      "2018-06-11 17:29:39,530 [INFO]     step:10000 t_sim:1000.000 ms\n",
      "2018-06-11 17:29:40,023 [INFO]     step:15000 t_sim:1500.000 ms\n",
      "2018-06-11 17:29:40,502 [INFO]     step:20000 t_sim:2000.000 ms\n",
      "2018-06-11 17:29:41,036 [INFO]     step:25000 t_sim:2500.000 ms\n",
      "2018-06-11 17:29:41,554 [INFO]     step:30000 t_sim:3000.000 ms\n",
      "2018-06-11 17:29:41,584 [INFO] Simulation completed in 2.908 seconds \n"
     ]
    }
   ],
   "source": [
    "from bmtk.simulator import bionet\n",
    "\n",
    "\n",
    "conf = bionet.Config.from_json('config.json', validate=True)\n",
    "conf.build_env()\n",
    "\n",
    "graph = bionet.BioNetwork.from_config(conf)\n",
    "sim = bionet.BioSimulator.from_config(conf, network=graph)\n",
    "sim.run()\n",
    "#bionet.nrn.quit_execution()"
   ]
  },
  {
   "cell_type": "code",
   "execution_count": 45,
   "metadata": {
    "collapsed": false
   },
   "outputs": [],
   "source": [
    "#run_sim('config.json')"
   ]
  },
  {
   "cell_type": "markdown",
   "metadata": {},
   "source": [
    "<div style=\"border-left: 3px solid #000; padding: 1px; padding-left: 10px; background: #F0FAFF; \\\">\n",
    "<h1>Basic analysis of output</h1>\n",
    "</div>"
   ]
  },
  {
   "cell_type": "markdown",
   "metadata": {},
   "source": [
    "<div style=\"border-left: 3px solid #000; padding: 1px; padding-left: 10px; background: #F0FAFF; \\\">\n",
    "<h3>Plot raster plot</h3>\n",
    "First we load the spikes outputs of our simulation.\n",
    "The output file contains two columns -- spike time (in millseconds) and node_id. Each time a cell spikes, a new row with the node_id and the spike time is added to the file.\n",
    "</div>"
   ]
  },
  {
   "cell_type": "code",
   "execution_count": 47,
   "metadata": {
    "collapsed": false
   },
   "outputs": [
    {
     "name": "stdout",
     "output_type": "stream",
     "text": [
      "[[137.367727   4.      ]\n",
      " [139.367727   7.      ]\n",
      " [139.367727   6.      ]\n",
      " [140.5        0.      ]\n",
      " [140.5        1.      ]\n",
      " [141.3        2.      ]\n",
      " [142.1        3.      ]\n",
      " [142.5        6.      ]\n",
      " [142.5        7.      ]]\n"
     ]
    }
   ],
   "source": [
    "# Load the spikes\n",
    "spks = np.loadtxt(config_file['manifest']['$OUTPUT_DIR'][10:] + config_file['output']['spikes_file_csv'][11:])\n",
    "\n",
    "# Print the first 10 spikes\n",
    "# spks[:, 0] is the spike-time\n",
    "# spks[:, 1] is the neuron id that fired at that time\n",
    "print(spks[1:10, :])"
   ]
  },
  {
   "cell_type": "code",
   "execution_count": 48,
   "metadata": {
    "collapsed": false
   },
   "outputs": [
    {
     "data": {
      "text/plain": [
       "Text(0,0.5,'Neuron Number')"
      ]
     },
     "execution_count": 48,
     "metadata": {},
     "output_type": "execute_result"
    },
    {
     "data": {
      "image/png": "[encoded data removed]",
      "text/plain": [
       "<Figure size 432x288 with 1 Axes>"
      ]
     },
     "metadata": {},
     "output_type": "display_data"
    }
   ],
   "source": [
    "# Basic raster plot\n",
    "plt.plot(spks[:, 0], spks[:, 1], '.k')\n",
    "plt.xlim(0, config_file['run']['tstop'])\n",
    "plt.ylim(-1, 7.5)\n",
    "plt.xlabel('Time (ms)')\n",
    "plt.ylabel('Neuron Number')"
   ]
  },
  {
   "cell_type": "markdown",
   "metadata": {},
   "source": [
    "<div style=\"background: #DFF0D8; border-radius: 3px; padding: 10px; \\\">\n",
    "<h3>Excercise 7:</h3>\n",
    "Zoom into speicific time window of raster to see interactions better.\n",
    "<p>Hint: change plt.xlim()\n",
    "</div>"
   ]
  },
  {
   "cell_type": "code",
   "execution_count": null,
   "metadata": {
    "collapsed": true
   },
   "outputs": [],
   "source": []
  },
  {
   "cell_type": "markdown",
   "metadata": {},
   "source": [
    "<div style=\"border-left: 3px solid #000; padding: 1px; padding-left: 10px; background: #F0FAFF; \\\">\n",
    "<h3>Plot membrane trace of node</h3>\n",
    "Membrane traces are also stored and saved in a .h5 file format. Below we show how to access, load, and plot the membrane traces.\n",
    "</div>"
   ]
  },
  {
   "cell_type": "code",
   "execution_count": 54,
   "metadata": {
    "collapsed": false
   },
   "outputs": [
    {
     "name": "stdout",
     "output_type": "stream",
     "text": [
      "output/cell_vars.h5\n"
     ]
    }
   ],
   "source": [
    "# Get the file name of node #2\n",
    "node = 2\n",
    "h5_output_file = 'output/cell_vars.h5'\n",
    "#h5_output_file = config_file['manifest']['$OUTPUT_DIR'][10:] + \\\n",
    "#                    config_file['output']['cell_vars_dir'][11:] + '/' + str(node) + '.h5' \n",
    "print(h5_output_file)"
   ]
  },
  {
   "cell_type": "code",
   "execution_count": 56,
   "metadata": {
    "collapsed": true
   },
   "outputs": [
    {
     "name": "stdout",
     "output_type": "stream",
     "text": [
      "Variables recorded: cai\n",
      "Variables recorded: v\n"
     ]
    }
   ],
   "source": [
    "# Load the file for a node and see all the recorded variables\n",
    "import h5py\n",
    "f = h5py.File(h5_output_file, 'r')\n",
    "for key in f:\n",
    "    if key.lower() == 'mapping':\n",
    "        continue\n",
    "    print('Variables recorded:', key)"
   ]
  },
  {
   "cell_type": "code",
   "execution_count": 58,
   "metadata": {
    "collapsed": true
   },
   "outputs": [
    {
     "data": {
      "text/plain": [
       "Text(0,0.5,'Membrane voltage (mV)')"
      ]
     },
     "execution_count": 58,
     "metadata": {},
     "output_type": "execute_result"
    },
    {
     "data": {
      "image/png": "[encoded data removed]",
      "text/plain": [
       "<Figure size 432x288 with 1 Axes>"
      ]
     },
     "metadata": {},
     "output_type": "display_data"
    }
   ],
   "source": [
    "# Select the membrane voltage variable and plot it\n",
    "mem_vol = np.array(f['/v/data'])\n",
    "time = np.arange(0, config_file['run']['tstop'], config_file['run']['dt'])\n",
    "plt.plot(time, mem_vol)\n",
    "plt.xlabel('Time (ms)')\n",
    "plt.ylabel('Membrane voltage (mV)')"
   ]
  },
  {
   "cell_type": "markdown",
   "metadata": {},
   "source": [
    "<div style=\"background: #DFF0D8; border-radius: 3px; padding: 10px; \\\">\n",
    "<h3>Excercise 8:</h3>\n",
    "Plot the membrane potential of all biophysically detailed neurons in a subplot. Look at the difference in subthreshold activity between the excitatory and inhibitory cells (recalled only excitatory get input from the external population).\n",
    "</div>"
   ]
  },
  {
   "cell_type": "code",
   "execution_count": null,
   "metadata": {
    "collapsed": true
   },
   "outputs": [],
   "source": []
  },
  {
   "cell_type": "markdown",
   "metadata": {},
   "source": [
    "<div style=\"background: #DFF0D8; border-radius: 3px; padding: 10px; \\\">\n",
    "<h2>Homework exercises:</h2>\n",
    "<p>1. Explore the directory structure created from this notebook that represents the network  \n",
    "<p>2. Explore the directory components that was created for you and contains more cell types  \n",
    "<p>3. Download and HDF5 viewer and explore the .h5 files created.  \n",
    "<p>4. Simulate one biophysical neuron receiving a large number of balanced excitatory and inhibitory inputs. Choose a cell model other than Scnn1a or PV1. Explore the effects of changing the target locations (somatic, basal, apical) of the excitatory and inhibitory inputs.  \n",
    "<p>5. We have another directory >>pointnet_notebook that shows how to use the same files and circuit created here to run a point neural network simulation. The simulator engine is NEST (http://www.nest-simulator.org/) and some changes had to be made to the config file and network description (documented in the notebook) based on NEST nomenclature requirements. Feel free to explore and play around with the notebook and NEST.\n",
    "</div>"
   ]
  },
  {
   "cell_type": "markdown",
   "metadata": {},
   "source": [
    "<div style=\"border-left: 3px solid #000; padding: 1px; padding-left: 10px; background: #F0FAFF; \\\">\n",
    "<h2>Project Ideas:</h2>\n",
    "<p>1. Compare visual responses between the Layer 4 model and Brain Observatory.  \n",
    "\n",
    "<p>2. Find an optimal kernel for converting spikes from the Layer 4 model to Ca2+ signal, to maximize the agreeement with the Brain Observatory data.  \n",
    "\n",
    "<p>3. Build a small-scale point-neuron network model receiving visual inputs; run simulations to explore visual responses.  \n",
    "\n",
    "<p>4. Build a small-scale point-neuron network; explore the effect of different connectivity rules on the spatio-temporal dynamics.  \n",
    "\n",
    "<p>5. Build a population-statistics DiPDE model analogous to the biophysical Layer 4 model.  Investigate whether similar dynamics can be obtained.  \n",
    "\n",
    "<p>6. Build a population-statistics DiPDE model of all cortical layers.  Explore cortical dynamics in simulations.  \n",
    "</div>"
   ]
  }
 ],
 "metadata": {
  "anaconda-cloud": {},
  "kernelspec": {
   "display_name": "Python [conda env:bmtk-py36]",
   "language": "python",
   "name": "conda-env-bmtk-py36-py"
  },
  "language_info": {
   "codemirror_mode": {
    "name": "ipython",
    "version": 3
   },
   "file_extension": ".py",
   "mimetype": "text/x-python",
   "name": "python",
   "nbconvert_exporter": "python",
   "pygments_lexer": "ipython3",
   "version": "3.6.5"
  }
 },
 "nbformat": 4,
 "nbformat_minor": 2
}
